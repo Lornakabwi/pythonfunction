{
 "cells": [
  {
   "cell_type": "code",
   "execution_count": 85,
   "metadata": {},
   "outputs": [
    {
     "name": "stdout",
     "output_type": "stream",
     "text": [
      "['ï»¿\"Date\"', 'Rate']\n",
      "['19/08/2011', '']\n",
      "['14/08/2003', '0.34']\n",
      "['08/08/2003', '0.34']\n",
      "['07/08/2003', '0.34']\n",
      "['22/09/2003', '0.36']\n"
     ]
    }
   ],
   "source": [
    "import csv\n",
    "with open('InterbankRates.csv')as csv_file:\n",
    "     csv_reader = csv.reader(csv_file.readlines()[0:6])\n",
    "     for rows in csv_reader:\n",
    "         print(rows)"
   ]
  },
  {
   "cell_type": "code",
   "execution_count": null,
   "metadata": {},
   "outputs": [],
   "source": []
  },
  {
   "cell_type": "code",
   "execution_count": null,
   "metadata": {},
   "outputs": [],
   "source": []
  },
  {
   "cell_type": "code",
   "execution_count": null,
   "metadata": {},
   "outputs": [],
   "source": []
  }
 ],
 "metadata": {
  "kernelspec": {
   "display_name": "Python 3",
   "language": "python",
   "name": "python3"
  },
  "language_info": {
   "codemirror_mode": {
    "name": "ipython",
    "version": 3
   },
   "file_extension": ".py",
   "mimetype": "text/x-python",
   "name": "python",
   "nbconvert_exporter": "python",
   "pygments_lexer": "ipython3",
   "version": "3.8.5"
  }
 },
 "nbformat": 4,
 "nbformat_minor": 4
}
